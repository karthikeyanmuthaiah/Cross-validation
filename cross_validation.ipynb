{
 "cells": [
  {
   "cell_type": "code",
   "execution_count": 1,
   "metadata": {},
   "outputs": [
    {
     "name": "stdout",
     "output_type": "stream",
     "text": [
      "E:\\karthi_m\\wind\n"
     ]
    }
   ],
   "source": [
    "cd E:\\karthi_m\\wind"
   ]
  },
  {
   "cell_type": "code",
   "execution_count": 2,
   "metadata": {},
   "outputs": [],
   "source": [
    "import pandas as pd\n",
    "from sklearn.model_selection import cross_val_score\n",
    "from sklearn import metrics\n",
    "import seaborn as sns\n",
    "import numpy as np\n",
    "from sklearn.metrics import accuracy_score"
   ]
  },
  {
   "cell_type": "code",
   "execution_count": 3,
   "metadata": {},
   "outputs": [],
   "source": [
    "da=pd.read_csv('data1.csv')"
   ]
  },
  {
   "cell_type": "code",
   "execution_count": 4,
   "metadata": {},
   "outputs": [
    {
     "data": {
      "text/html": [
       "<div>\n",
       "<style scoped>\n",
       "    .dataframe tbody tr th:only-of-type {\n",
       "        vertical-align: middle;\n",
       "    }\n",
       "\n",
       "    .dataframe tbody tr th {\n",
       "        vertical-align: top;\n",
       "    }\n",
       "\n",
       "    .dataframe thead th {\n",
       "        text-align: right;\n",
       "    }\n",
       "</style>\n",
       "<table border=\"1\" class=\"dataframe\">\n",
       "  <thead>\n",
       "    <tr style=\"text-align: right;\">\n",
       "      <th></th>\n",
       "      <th>windspeed</th>\n",
       "      <th>airdensity</th>\n",
       "      <th>amb_temp</th>\n",
       "      <th>nac_direction</th>\n",
       "      <th>blds_pitchangle</th>\n",
       "      <th>rtr_rpm</th>\n",
       "      <th>gen_rpm</th>\n",
       "      <th>wtg_state</th>\n",
       "    </tr>\n",
       "  </thead>\n",
       "  <tbody>\n",
       "    <tr>\n",
       "      <th>0</th>\n",
       "      <td>9.1</td>\n",
       "      <td>1.162127</td>\n",
       "      <td>27</td>\n",
       "      <td>61.8</td>\n",
       "      <td>(-2,-4)</td>\n",
       "      <td>14.1</td>\n",
       "      <td>1305.0</td>\n",
       "      <td>ok</td>\n",
       "    </tr>\n",
       "    <tr>\n",
       "      <th>1</th>\n",
       "      <td>9.6</td>\n",
       "      <td>1.162127</td>\n",
       "      <td>27</td>\n",
       "      <td>61.8</td>\n",
       "      <td>(-2,-4)</td>\n",
       "      <td>14.4</td>\n",
       "      <td>1336.0</td>\n",
       "      <td>ok</td>\n",
       "    </tr>\n",
       "    <tr>\n",
       "      <th>2</th>\n",
       "      <td>9.6</td>\n",
       "      <td>1.162127</td>\n",
       "      <td>27</td>\n",
       "      <td>61.8</td>\n",
       "      <td>(-2,-4)</td>\n",
       "      <td>14.4</td>\n",
       "      <td>1330.0</td>\n",
       "      <td>ok</td>\n",
       "    </tr>\n",
       "    <tr>\n",
       "      <th>3</th>\n",
       "      <td>11.2</td>\n",
       "      <td>1.162127</td>\n",
       "      <td>27</td>\n",
       "      <td>65.2</td>\n",
       "      <td>(-0.1,-1.9)</td>\n",
       "      <td>14.5</td>\n",
       "      <td>1345.0</td>\n",
       "      <td>ok</td>\n",
       "    </tr>\n",
       "    <tr>\n",
       "      <th>4</th>\n",
       "      <td>11.4</td>\n",
       "      <td>1.162127</td>\n",
       "      <td>27</td>\n",
       "      <td>66.6</td>\n",
       "      <td>(-0.1,-1.9)</td>\n",
       "      <td>14.5</td>\n",
       "      <td>1344.0</td>\n",
       "      <td>ok</td>\n",
       "    </tr>\n",
       "  </tbody>\n",
       "</table>\n",
       "</div>"
      ],
      "text/plain": [
       "   windspeed  airdensity  amb_temp  nac_direction blds_pitchangle  rtr_rpm  \\\n",
       "0        9.1    1.162127        27           61.8         (-2,-4)     14.1   \n",
       "1        9.6    1.162127        27           61.8         (-2,-4)     14.4   \n",
       "2        9.6    1.162127        27           61.8         (-2,-4)     14.4   \n",
       "3       11.2    1.162127        27           65.2     (-0.1,-1.9)     14.5   \n",
       "4       11.4    1.162127        27           66.6     (-0.1,-1.9)     14.5   \n",
       "\n",
       "   gen_rpm wtg_state  \n",
       "0   1305.0        ok  \n",
       "1   1336.0        ok  \n",
       "2   1330.0        ok  \n",
       "3   1345.0        ok  \n",
       "4   1344.0        ok  "
      ]
     },
     "execution_count": 4,
     "metadata": {},
     "output_type": "execute_result"
    }
   ],
   "source": [
    "da.head()"
   ]
  },
  {
   "cell_type": "code",
   "execution_count": 5,
   "metadata": {},
   "outputs": [
    {
     "data": {
      "text/plain": [
       "ok                   44020\n",
       "wind low              8658\n",
       "curtailed             4186\n",
       "Gen not conn          3896\n",
       "high wind cut-out       29\n",
       "Name: wtg_state, dtype: int64"
      ]
     },
     "execution_count": 5,
     "metadata": {},
     "output_type": "execute_result"
    }
   ],
   "source": [
    "da['wtg_state'].value_counts()"
   ]
  },
  {
   "cell_type": "code",
   "execution_count": 6,
   "metadata": {},
   "outputs": [],
   "source": [
    "from sklearn.model_selection import cross_val_score\n",
    "from sklearn.preprocessing import LabelEncoder"
   ]
  },
  {
   "cell_type": "code",
   "execution_count": 7,
   "metadata": {},
   "outputs": [
    {
     "data": {
      "text/html": [
       "<div>\n",
       "<style scoped>\n",
       "    .dataframe tbody tr th:only-of-type {\n",
       "        vertical-align: middle;\n",
       "    }\n",
       "\n",
       "    .dataframe tbody tr th {\n",
       "        vertical-align: top;\n",
       "    }\n",
       "\n",
       "    .dataframe thead th {\n",
       "        text-align: right;\n",
       "    }\n",
       "</style>\n",
       "<table border=\"1\" class=\"dataframe\">\n",
       "  <thead>\n",
       "    <tr style=\"text-align: right;\">\n",
       "      <th></th>\n",
       "      <th>windspeed</th>\n",
       "      <th>airdensity</th>\n",
       "      <th>amb_temp</th>\n",
       "      <th>nac_direction</th>\n",
       "      <th>blds_pitchangle</th>\n",
       "      <th>rtr_rpm</th>\n",
       "      <th>gen_rpm</th>\n",
       "      <th>wtg_state</th>\n",
       "    </tr>\n",
       "  </thead>\n",
       "  <tbody>\n",
       "    <tr>\n",
       "      <th>0</th>\n",
       "      <td>90</td>\n",
       "      <td>8</td>\n",
       "      <td>6</td>\n",
       "      <td>568</td>\n",
       "      <td>1</td>\n",
       "      <td>141</td>\n",
       "      <td>2805</td>\n",
       "      <td>3</td>\n",
       "    </tr>\n",
       "    <tr>\n",
       "      <th>1</th>\n",
       "      <td>95</td>\n",
       "      <td>8</td>\n",
       "      <td>6</td>\n",
       "      <td>568</td>\n",
       "      <td>1</td>\n",
       "      <td>144</td>\n",
       "      <td>3036</td>\n",
       "      <td>3</td>\n",
       "    </tr>\n",
       "    <tr>\n",
       "      <th>2</th>\n",
       "      <td>95</td>\n",
       "      <td>8</td>\n",
       "      <td>6</td>\n",
       "      <td>568</td>\n",
       "      <td>1</td>\n",
       "      <td>144</td>\n",
       "      <td>2982</td>\n",
       "      <td>3</td>\n",
       "    </tr>\n",
       "    <tr>\n",
       "      <th>3</th>\n",
       "      <td>111</td>\n",
       "      <td>8</td>\n",
       "      <td>6</td>\n",
       "      <td>602</td>\n",
       "      <td>0</td>\n",
       "      <td>145</td>\n",
       "      <td>3124</td>\n",
       "      <td>3</td>\n",
       "    </tr>\n",
       "    <tr>\n",
       "      <th>4</th>\n",
       "      <td>113</td>\n",
       "      <td>8</td>\n",
       "      <td>6</td>\n",
       "      <td>616</td>\n",
       "      <td>0</td>\n",
       "      <td>145</td>\n",
       "      <td>3114</td>\n",
       "      <td>3</td>\n",
       "    </tr>\n",
       "  </tbody>\n",
       "</table>\n",
       "</div>"
      ],
      "text/plain": [
       "   windspeed  airdensity  amb_temp  nac_direction  blds_pitchangle  rtr_rpm  \\\n",
       "0         90           8         6            568                1      141   \n",
       "1         95           8         6            568                1      144   \n",
       "2         95           8         6            568                1      144   \n",
       "3        111           8         6            602                0      145   \n",
       "4        113           8         6            616                0      145   \n",
       "\n",
       "   gen_rpm  wtg_state  \n",
       "0     2805          3  \n",
       "1     3036          3  \n",
       "2     2982          3  \n",
       "3     3124          3  \n",
       "4     3114          3  "
      ]
     },
     "execution_count": 7,
     "metadata": {},
     "output_type": "execute_result"
    }
   ],
   "source": [
    "y_ = da.apply(LabelEncoder().fit_transform)\n",
    "y_.head()"
   ]
  },
  {
   "cell_type": "code",
   "execution_count": 8,
   "metadata": {},
   "outputs": [],
   "source": [
    "x= da.drop(['wtg_state'],axis=1)\n",
    "y= da['wtg_state']"
   ]
  },
  {
   "cell_type": "code",
   "execution_count": 9,
   "metadata": {},
   "outputs": [],
   "source": [
    "x2=pd.get_dummies(x['blds_pitchangle'],drop_first=True)\n",
    "x1=x.drop(['blds_pitchangle'],axis=1)\n",
    "x= pd.concat([x1, x2], axis=1)"
   ]
  },
  {
   "cell_type": "code",
   "execution_count": null,
   "metadata": {},
   "outputs": [],
   "source": []
  },
  {
   "cell_type": "code",
   "execution_count": null,
   "metadata": {},
   "outputs": [],
   "source": []
  },
  {
   "cell_type": "code",
   "execution_count": 10,
   "metadata": {},
   "outputs": [],
   "source": [
    "#naive bayes"
   ]
  },
  {
   "cell_type": "code",
   "execution_count": 11,
   "metadata": {},
   "outputs": [],
   "source": [
    "from sklearn.model_selection import cross_val_score\n",
    "from sklearn.naive_bayes import MultinomialNB\n",
    "NB = MultinomialNB()"
   ]
  },
  {
   "cell_type": "code",
   "execution_count": 12,
   "metadata": {},
   "outputs": [
    {
     "data": {
      "text/plain": [
       "0.6352356653825152"
      ]
     },
     "execution_count": 12,
     "metadata": {},
     "output_type": "execute_result"
    }
   ],
   "source": [
    "NB_scores = cross_val_score(NB, x, y, cv=6, scoring='accuracy')\n",
    "NB_scores.mean()"
   ]
  },
  {
   "cell_type": "code",
   "execution_count": 13,
   "metadata": {},
   "outputs": [
    {
     "name": "stdout",
     "output_type": "stream",
     "text": [
      "[0.5105606  0.57530596 0.4789775  0.81393742 0.68690159 0.74573092]\n"
     ]
    }
   ],
   "source": [
    "print(NB_scores)"
   ]
  },
  {
   "cell_type": "code",
   "execution_count": 14,
   "metadata": {},
   "outputs": [
    {
     "name": "stdout",
     "output_type": "stream",
     "text": [
      "Mean score :  0.6352356653825152\n"
     ]
    }
   ],
   "source": [
    "import numpy as np\n",
    "NB_cv_mean = np.mean(NB_scores)\n",
    "print('Mean score : ', NB_cv_mean)"
   ]
  },
  {
   "cell_type": "code",
   "execution_count": null,
   "metadata": {},
   "outputs": [],
   "source": []
  },
  {
   "cell_type": "code",
   "execution_count": 15,
   "metadata": {},
   "outputs": [],
   "source": [
    "#Random forest"
   ]
  },
  {
   "cell_type": "code",
   "execution_count": 16,
   "metadata": {},
   "outputs": [],
   "source": [
    "from sklearn.ensemble import RandomForestClassifier\n",
    "RF = RandomForestClassifier()"
   ]
  },
  {
   "cell_type": "code",
   "execution_count": 17,
   "metadata": {},
   "outputs": [],
   "source": [
    "rf_scores = cross_val_score(RF, x, y, cv=6, scoring='accuracy')"
   ]
  },
  {
   "cell_type": "code",
   "execution_count": 18,
   "metadata": {},
   "outputs": [
    {
     "data": {
      "text/plain": [
       "0.9105271492857958"
      ]
     },
     "execution_count": 18,
     "metadata": {},
     "output_type": "execute_result"
    }
   ],
   "source": [
    "rf_scores.mean()"
   ]
  },
  {
   "cell_type": "code",
   "execution_count": 19,
   "metadata": {},
   "outputs": [
    {
     "name": "stdout",
     "output_type": "stream",
     "text": [
      "[0.91393604 0.92933281 0.85343466 0.93268187 0.94196032 0.89181719]\n"
     ]
    }
   ],
   "source": [
    "print(rf_scores)"
   ]
  },
  {
   "cell_type": "code",
   "execution_count": 20,
   "metadata": {},
   "outputs": [
    {
     "name": "stdout",
     "output_type": "stream",
     "text": [
      "forest Mean score :  0.9105271492857958\n"
     ]
    }
   ],
   "source": [
    "rf_cv_mean = np.mean(rf_scores)\n",
    "\n",
    "print('forest Mean score : ', rf_cv_mean)"
   ]
  },
  {
   "cell_type": "code",
   "execution_count": null,
   "metadata": {},
   "outputs": [],
   "source": []
  },
  {
   "cell_type": "code",
   "execution_count": 21,
   "metadata": {},
   "outputs": [],
   "source": [
    "#desicion tree"
   ]
  },
  {
   "cell_type": "code",
   "execution_count": 22,
   "metadata": {},
   "outputs": [],
   "source": [
    "from sklearn.tree import DecisionTreeClassifier\n",
    "clf_gini = DecisionTreeClassifier()"
   ]
  },
  {
   "cell_type": "code",
   "execution_count": 23,
   "metadata": {},
   "outputs": [],
   "source": [
    "dt_scores = cross_val_score(clf_gini, x, y, cv=6, scoring='accuracy')"
   ]
  },
  {
   "cell_type": "code",
   "execution_count": 24,
   "metadata": {},
   "outputs": [
    {
     "data": {
      "text/plain": [
       "0.8757840083431848"
      ]
     },
     "execution_count": 24,
     "metadata": {},
     "output_type": "execute_result"
    }
   ],
   "source": [
    "dt_scores.mean()"
   ]
  },
  {
   "cell_type": "code",
   "execution_count": 25,
   "metadata": {},
   "outputs": [
    {
     "name": "stdout",
     "output_type": "stream",
     "text": [
      "[0.87080537 0.90416502 0.81829846 0.90247754 0.90405686 0.8549008 ]\n"
     ]
    }
   ],
   "source": [
    "print(dt_scores)"
   ]
  },
  {
   "cell_type": "code",
   "execution_count": 26,
   "metadata": {},
   "outputs": [
    {
     "name": "stdout",
     "output_type": "stream",
     "text": [
      "dt Mean score :  0.8757840083431848\n"
     ]
    }
   ],
   "source": [
    "dt_cv_mean = np.mean(dt_scores)\n",
    "\n",
    "print('dt Mean score : ', dt_cv_mean)"
   ]
  },
  {
   "cell_type": "code",
   "execution_count": null,
   "metadata": {},
   "outputs": [],
   "source": []
  },
  {
   "cell_type": "code",
   "execution_count": 27,
   "metadata": {},
   "outputs": [],
   "source": [
    "#gradient boosting"
   ]
  },
  {
   "cell_type": "code",
   "execution_count": 28,
   "metadata": {},
   "outputs": [],
   "source": [
    "from sklearn.ensemble import GradientBoostingClassifier\n",
    "import time"
   ]
  },
  {
   "cell_type": "code",
   "execution_count": 29,
   "metadata": {},
   "outputs": [],
   "source": [
    "gb = GradientBoostingClassifier()"
   ]
  },
  {
   "cell_type": "code",
   "execution_count": 30,
   "metadata": {},
   "outputs": [
    {
     "name": "stdout",
     "output_type": "stream",
     "text": [
      "0.9156267577586622\n",
      "The time taken for the classifier for 6 fold cross validation is 4.941470317045847\n"
     ]
    }
   ],
   "source": [
    "start_gb = time.time()\n",
    "\n",
    "gb_scores = cross_val_score(gb, x, y, cv=6, scoring='accuracy')\n",
    "print(gb_scores.mean())\n",
    "\n",
    "end_gb =time.time()\n",
    "gb_time = (end_gb-start_gb)/60\n",
    "print('The time taken for the classifier for 6 fold cross validation is ' + str(gb_time))"
   ]
  },
  {
   "cell_type": "code",
   "execution_count": 31,
   "metadata": {},
   "outputs": [
    {
     "name": "stdout",
     "output_type": "stream",
     "text": [
      "[0.92716147 0.93347809 0.85126332 0.93524825 0.9445267  0.90208272]\n"
     ]
    }
   ],
   "source": [
    "print(gb_scores)"
   ]
  },
  {
   "cell_type": "code",
   "execution_count": 32,
   "metadata": {},
   "outputs": [
    {
     "name": "stdout",
     "output_type": "stream",
     "text": [
      "gb Mean score :  0.9156267577586622\n"
     ]
    }
   ],
   "source": [
    "gb_cv_mean = np.mean(gb_scores)\n",
    "print('gb Mean score : ', gb_cv_mean)"
   ]
  },
  {
   "cell_type": "code",
   "execution_count": null,
   "metadata": {},
   "outputs": [],
   "source": []
  }
 ],
 "metadata": {
  "kernelspec": {
   "display_name": "Python 3",
   "language": "python",
   "name": "python3"
  },
  "language_info": {
   "codemirror_mode": {
    "name": "ipython",
    "version": 3
   },
   "file_extension": ".py",
   "mimetype": "text/x-python",
   "name": "python",
   "nbconvert_exporter": "python",
   "pygments_lexer": "ipython3",
   "version": "3.8.3"
  }
 },
 "nbformat": 4,
 "nbformat_minor": 4
}
